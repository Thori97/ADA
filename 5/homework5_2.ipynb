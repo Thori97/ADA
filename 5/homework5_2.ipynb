{
 "cells": [
  {
   "cell_type": "markdown",
   "metadata": {},
   "source": [
    "# 宿題2\n",
    "一対他法で課題を行った"
   ]
  },
  {
   "cell_type": "code",
   "execution_count": 1,
   "metadata": {},
   "outputs": [],
   "source": [
    "import csv\n",
    "import numpy as np"
   ]
  },
  {
   "cell_type": "markdown",
   "metadata": {},
   "source": [
    "## 訓練データ読み込み"
   ]
  },
  {
   "cell_type": "code",
   "execution_count": 3,
   "metadata": {},
   "outputs": [],
   "source": [
    "train_filenames = [\n",
    "    'digit/digit_train0.csv',\n",
    "    'digit/digit_train1.csv',\n",
    "    'digit/digit_train2.csv',\n",
    "    'digit/digit_train3.csv',\n",
    "    'digit/digit_train4.csv',\n",
    "    'digit/digit_train5.csv',\n",
    "    'digit/digit_train6.csv',\n",
    "    'digit/digit_train7.csv',\n",
    "    'digit/digit_train8.csv',\n",
    "    'digit/digit_train9.csv'\n",
    "]\n",
    "train_digits = []\n",
    "for train_filename in train_filenames:\n",
    "    with open(train_filename) as f:\n",
    "        reader = csv.reader(f)\n",
    "        l = np.array([list(map(float, row)) for row in reader])\n",
    "        train_digits.append(l)"
   ]
  },
  {
   "cell_type": "code",
   "execution_count": 4,
   "metadata": {},
   "outputs": [
    {
     "data": {
      "text/plain": [
       "(5000, 256)"
      ]
     },
     "execution_count": 4,
     "metadata": {},
     "output_type": "execute_result"
    }
   ],
   "source": [
    "train_digits = np.array(train_digits).reshape(-1, 256)\n",
    "train_digits.shape"
   ]
  },
  {
   "cell_type": "markdown",
   "metadata": {},
   "source": [
    "## 訓練\n",
    "\n",
    "$$\\hat{\\theta} =  K^{-1} y$$を計算($K$はカーネル行列)\n",
    "\n",
    "各ラベルの訓練において、$y$だけがラベルで変わるので$K^{-1}$を一度だけ計算している"
   ]
  },
  {
   "cell_type": "code",
   "execution_count": 7,
   "metadata": {},
   "outputs": [],
   "source": [
    "def kernel(x0, x1):\n",
    "    return np.exp(-0.5*(np.linalg.norm(x0-x1, ord=2))/h**2)\n",
    "def train_all(train_digits):\n",
    "    thetas = []\n",
    "    n = len(train_digits)\n",
    "    K = np.array(\n",
    "        [\n",
    "            [\n",
    "                kernel(train_digits[i], train_digits[j]) for j in range(n)\n",
    "            ]\n",
    "            for i in range(n)\n",
    "        ]\n",
    "    )\n",
    "    K_inv = np.linalg.inv(K)\n",
    "    print(\"first matrix compute finished\", flush=True)\n",
    "    for i in range(10):\n",
    "        y = np.ones([n, 1])\n",
    "        y *= -1\n",
    "        y[i*500:(i+1)*500] = 1\n",
    "        theta = K_inv @ y\n",
    "        thetas.append(theta)\n",
    "        print(f\"{i} th train finished\", flush=True)\n",
    "    return thetas"
   ]
  },
  {
   "cell_type": "code",
   "execution_count": 8,
   "metadata": {},
   "outputs": [
    {
     "name": "stdout",
     "output_type": "stream",
     "text": [
      "first matrix compute finished\n",
      "5000 (5000, 5000) (5000, 1)\n",
      "0 th train finished\n",
      "5000 (5000, 5000) (5000, 1)\n",
      "1 th train finished\n",
      "5000 (5000, 5000) (5000, 1)\n",
      "2 th train finished\n",
      "5000 (5000, 5000) (5000, 1)\n",
      "3 th train finished\n",
      "5000 (5000, 5000) (5000, 1)\n",
      "4 th train finished\n",
      "5000 (5000, 5000) (5000, 1)\n",
      "5 th train finished\n",
      "5000 (5000, 5000) (5000, 1)\n",
      "6 th train finished\n",
      "5000 (5000, 5000) (5000, 1)\n",
      "7 th train finished\n",
      "5000 (5000, 5000) (5000, 1)\n",
      "8 th train finished\n",
      "5000 (5000, 5000) (5000, 1)\n",
      "9 th train finished\n"
     ]
    }
   ],
   "source": [
    "h = 1\n",
    "classifiers = train_all(train_digits)"
   ]
  },
  {
   "cell_type": "code",
   "execution_count": 9,
   "metadata": {},
   "outputs": [
    {
     "data": {
      "text/plain": [
       "(5000, 1)"
      ]
     },
     "execution_count": 9,
     "metadata": {},
     "output_type": "execute_result"
    }
   ],
   "source": [
    "classifiers[0].shape"
   ]
  },
  {
   "cell_type": "markdown",
   "metadata": {},
   "source": [
    "## テスト\n",
    "各数字に対してテストデータで検証を行った"
   ]
  },
  {
   "cell_type": "code",
   "execution_count": 14,
   "metadata": {},
   "outputs": [],
   "source": [
    "test_filenames = [\n",
    "    'digit/digit_test0.csv',\n",
    "    'digit/digit_test1.csv',\n",
    "    'digit/digit_test2.csv',\n",
    "    'digit/digit_test3.csv',\n",
    "    'digit/digit_test4.csv',\n",
    "    'digit/digit_test5.csv',\n",
    "    'digit/digit_test6.csv',\n",
    "    'digit/digit_test7.csv',\n",
    "    'digit/digit_test8.csv',\n",
    "    'digit/digit_test9.csv'\n",
    "]\n",
    "\n",
    "def classify(data, train_digits):\n",
    "    l = np.zeros(10)\n",
    "    for i in range(10):\n",
    "        l[i] = sum([classifiers[i][j]*kernel(data, train_digits[j]) for j in range(len(train_digits))])\n",
    "    return np.argmax(l)\n",
    "\n",
    "result = np.zeros((10, 10))\n",
    "d = 0\n",
    "for test_filename in test_filenames:\n",
    "    with open(test_filename) as f:\n",
    "        reader = csv.reader(f)\n",
    "        l = np.array([list(map(float, row)) for row in reader])\n",
    "    for i in range(len(l)):\n",
    "        est = classify(l[i], train_digits)\n",
    "        result[d, est] += 1\n",
    "    d += 1"
   ]
  },
  {
   "cell_type": "markdown",
   "metadata": {},
   "source": [
    "## 結果\n",
    "縦が正解のカテゴリで、横が予測したカテゴリ"
   ]
  },
  {
   "cell_type": "code",
   "execution_count": 16,
   "metadata": {},
   "outputs": [
    {
     "name": "stdout",
     "output_type": "stream",
     "text": [
      "[[196.   0.   1.   2.   0.   0.   1.   0.   0.   0.]\n",
      " [  0. 199.   1.   0.   0.   0.   0.   0.   0.   0.]\n",
      " [  0.   0. 191.   0.   5.   0.   0.   1.   3.   0.]\n",
      " [  0.   0.   1. 194.   0.   3.   0.   1.   1.   0.]\n",
      " [  0.   1.   1.   0. 193.   0.   3.   0.   0.   2.]\n",
      " [  2.   0.   1.   4.   2. 188.   0.   0.   1.   2.]\n",
      " [  1.   0.   2.   0.   1.   1. 195.   0.   0.   0.]\n",
      " [  0.   0.   2.   0.   4.   0.   0. 190.   1.   3.]\n",
      " [  0.   0.   0.   4.   0.   4.   0.   0. 190.   2.]\n",
      " [  0.   0.   0.   0.   5.   0.   0.   1.   1. 193.]]\n"
     ]
    }
   ],
   "source": [
    "print(result)"
   ]
  },
  {
   "cell_type": "code",
   "execution_count": 22,
   "metadata": {},
   "outputs": [
    {
     "name": "stdout",
     "output_type": "stream",
     "text": [
      "accuracy = 0.9645\n"
     ]
    }
   ],
   "source": [
    "accuracy = sum(np.diag(result))/sum(sum(result))\n",
    "print(f\"accuracy = {accuracy}\")"
   ]
  },
  {
   "cell_type": "code",
   "execution_count": null,
   "metadata": {},
   "outputs": [],
   "source": []
  },
  {
   "cell_type": "code",
   "execution_count": null,
   "metadata": {},
   "outputs": [],
   "source": []
  }
 ],
 "metadata": {
  "kernelspec": {
   "display_name": "Python 3",
   "language": "python",
   "name": "python3"
  },
  "language_info": {
   "codemirror_mode": {
    "name": "ipython",
    "version": 3
   },
   "file_extension": ".py",
   "mimetype": "text/x-python",
   "name": "python",
   "nbconvert_exporter": "python",
   "pygments_lexer": "ipython3",
   "version": "3.8.5"
  }
 },
 "nbformat": 4,
 "nbformat_minor": 4
}
