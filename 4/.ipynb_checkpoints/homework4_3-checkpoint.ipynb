{
 "cells": [
  {
   "cell_type": "code",
   "execution_count": 1,
   "metadata": {},
   "outputs": [],
   "source": [
    "import numpy as np\n",
    "import matplotlib.pyplot as plt\n",
    "\n",
    "np.random.seed(3)\n",
    "\n",
    "\n",
    "def generate_sample(x_min=-3., x_max=3., sample_size=10):\n",
    "    x = np.linspace(x_min, x_max, num=sample_size)\n",
    "    y = x + np.random.normal(loc=0., scale=.2, size=sample_size)\n",
    "    y[-1] = y[-2] = y[1] = -4  # outliers\n",
    "    return x, y\n",
    "\n",
    "x, y = generate_sample()"
   ]
  },
  {
   "cell_type": "code",
   "execution_count": 2,
   "metadata": {},
   "outputs": [],
   "source": [
    "def f(x, theta):\n",
    "    return theta[0]+ theta[1]*x\n",
    "def rho(r):\n",
    "    if abs(r) < e:\n",
    "        return (1 - (1-r**2/e**2)**3)/6\n",
    "    else:\n",
    "        return 1/6"
   ]
  },
  {
   "cell_type": "code",
   "execution_count": 3,
   "metadata": {},
   "outputs": [],
   "source": [
    "theta = np.array([0.5, -0.5])\n",
    "Phi = np.array([[1, x[i]] for i in range(len(x))])\n",
    "e = 0.2\n",
    "for i in range(100): #  更新部分\n",
    "    W = np.diag([ 1 if abs(f(x[i], theta)-y[i])<=e else e/abs(f(x[i], theta)-y[i]) for i in range(len(x)) ])\n",
    "    theta = np.linalg.inv(Phi.T@W@Phi)@Phi.T@W@y"
   ]
  },
  {
   "cell_type": "code",
   "execution_count": 4,
   "metadata": {},
   "outputs": [
    {
     "data": {
      "text/plain": [
       "<matplotlib.legend.Legend at 0x7f39434eacd0>"
      ]
     },
     "execution_count": 4,
     "metadata": {},
     "output_type": "execute_result"
    },
    {
     "data": {
      "image/png": "[encoded data removed]",
      "text/plain": [
       "<Figure size 432x288 with 1 Axes>"
      ]
     },
     "metadata": {
      "needs_background": "light"
     },
     "output_type": "display_data"
    }
   ],
   "source": [
    "plt.scatter(x, y)\n",
    "X = np.linspace(min(x), max(x))\n",
    "Y = theta[0] + theta[1]*X\n",
    "plt.plot(X, Y, label=\"Tukey\")\n",
    "theta2 = np.linalg.inv(Phi.T@Phi)@Phi.T@y\n",
    "Y2 = theta2[0] + theta[1]*X\n",
    "plt.plot(X, Y2, label=\"linear square\")\n",
    "plt.legend()"
   ]
  },
  {
   "cell_type": "markdown",
   "metadata": {},
   "source": [
    "# 外れ値の影響を受けていない"
   ]
  },
  {
   "cell_type": "code",
   "execution_count": null,
   "metadata": {},
   "outputs": [],
   "source": []
  }
 ],
 "metadata": {
  "kernelspec": {
   "display_name": "Python 3",
   "language": "python",
   "name": "python3"
  },
  "language_info": {
   "codemirror_mode": {
    "name": "ipython",
    "version": 3
   },
   "file_extension": ".py",
   "mimetype": "text/x-python",
   "name": "python",
   "nbconvert_exporter": "python",
   "pygments_lexer": "ipython3",
   "version": "3.8.5"
  }
 },
 "nbformat": 4,
 "nbformat_minor": 4
}
