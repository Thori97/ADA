{
 "cells": [
  {
   "cell_type": "markdown",
   "metadata": {},
   "source": [
    "ガウスカーネルモデル\n",
    "\n",
    "$$f_\\theta (x) = \\sum _{j=1} ^{n+n'} \\theta _j K(x, x_j)$$\n",
    "$$K(x, c) = \\exp{\\left( -\\frac{\\|x-c\\|^2}{2h^2} \\right)}$$\n",
    "\n",
    "に対してラプラス正則化最小二乗分類を実装せよ"
   ]
  },
  {
   "cell_type": "code",
   "execution_count": 8,
   "metadata": {},
   "outputs": [],
   "source": [
    "import numpy as np\n",
    "import matplotlib.pyplot as plt"
   ]
  },
  {
   "cell_type": "code",
   "execution_count": 9,
   "metadata": {},
   "outputs": [],
   "source": [
    "#  データ生成\n",
    "n = 200\n",
    "a = np.linspace(0, np.pi, n//2)\n",
    "u = np.concatenate([-10*(np.cos(a)+0.5), -10*(np.cos(a)-0.5)]) + np.random.randn(n,)\n",
    "v = np.concatenate([10*np.sin(a), -10*np.sin(a)]) + np.random.randn(n,)\n",
    "x = np.vstack([u, v])"
   ]
  },
  {
   "cell_type": "code",
   "execution_count": 10,
   "metadata": {},
   "outputs": [],
   "source": [
    "#  カーネル関数\n",
    "h = 0.6\n",
    "def K(x, c):\n",
    "    return np.exp(-np.linalg.norm(x-c, ord=2)/2/h**2)"
   ]
  },
  {
   "cell_type": "code",
   "execution_count": 11,
   "metadata": {},
   "outputs": [],
   "source": [
    "#  パラメータ計算\n",
    "\n",
    "n_1 = [0, n-1] # 教師ありデータindex\n",
    "n_2 = [i for i in range(1, n-1)]   # 教師なしデータindex\n",
    "n_ = n_1 + n_2 # データのindex\n",
    "\n",
    "# 計画行列\n",
    "psi = np.zeros((n, n))\n",
    "for i in range(n):\n",
    "    for j in range(n):\n",
    "        psi[i, j] = K(x[:, n_[i]], x[:, n_[j]])\n",
    "\n",
    "# グラフラプラシアンの計算\n",
    "W = np.zeros((n, n))\n",
    "D = np.zeros((n, n))\n",
    "for i in range(n):\n",
    "    for j in range(n):\n",
    "        W[i, j] = K(x[:, n_[i]], x[:, n_[j]])\n",
    "for i in range(n):\n",
    "    D[i, i] = np.sum(W[i, :])\n",
    "L = D - W\n",
    "\n",
    "# ラベルありデータの計画行列\n",
    "psi_tilde = np.zeros((len(n_1), n))\n",
    "for i in range(len(n_1)):\n",
    "    for j in range(n):\n",
    "        psi_tilde[i, j] = K(x[:, n_1[i]], x[:, n_[j]])\n",
    "\n",
    "# ラベル\n",
    "y = np.array([-1, 1])\n",
    "\n",
    "# ハイパーパラメータ\n",
    "lam = 1\n",
    "nu = 6\n",
    "\n",
    "#  パラメータを計算\n",
    "theta = np.linalg.inv(psi_tilde.T@psi_tilde + lam*np.eye(n) + 2*nu*psi.T@L@psi)@psi_tilde.T@y"
   ]
  },
  {
   "cell_type": "code",
   "execution_count": 12,
   "metadata": {},
   "outputs": [],
   "source": [
    "#  各点での値を評価\n",
    "def f(x_):\n",
    "    #return np.sum([theta[n_[i]]*K(x_, x[:, n_[i]]) for i in range(n)])\n",
    "    return np.sum([theta[i]*K(x_, x[:, n_[i]]) for i in range(n)])"
   ]
  },
  {
   "cell_type": "code",
   "execution_count": 13,
   "metadata": {},
   "outputs": [],
   "source": [
    "#  描画用\n",
    "xx = np.linspace(-20, 20, 80)\n",
    "yy = np.linspace(-15, 15, 80)\n",
    "xx, yy = np.meshgrid(xx, yy)\n",
    "#zz = f(np.dstack([xx, yy]))\n",
    "zz = np.zeros((xx.shape[0], xx.shape[1]))\n",
    "for i in range(xx.shape[0]):\n",
    "    for j in range(xx.shape[1]):\n",
    "        zz[i, j] = f(np.array([xx[i, j], yy[i, j]]))"
   ]
  },
  {
   "cell_type": "code",
   "execution_count": 14,
   "metadata": {},
   "outputs": [
    {
     "data": {
      "image/png": "[encoded data removed]",
      "text/plain": [
       "<Figure size 432x288 with 1 Axes>"
      ]
     },
     "metadata": {
      "needs_background": "light"
     },
     "output_type": "display_data"
    }
   ],
   "source": [
    "# プロット\n",
    "plt.scatter(x[0, 1:n//2], x[1, 1:n//2], c='black', s=20)\n",
    "plt.scatter(x[0, 0], x[1, 0], s=1000, facecolor='None', edgecolors='blue')\n",
    "plt.scatter(x[0, n//2:-1], x[1, n//2:-1], c='black', s=20)\n",
    "plt.scatter(x[0, -1], x[1, -1], c='red', s=1000,marker='x')\n",
    "plt.contour(xx, yy, zz, levels = [0,])\n",
    "plt.show()"
   ]
  },
  {
   "cell_type": "markdown",
   "metadata": {},
   "source": [
    "半教師あり学習でも複雑な識別境界を実現できている"
   ]
  },
  {
   "cell_type": "code",
   "execution_count": null,
   "metadata": {},
   "outputs": [],
   "source": []
  }
 ],
 "metadata": {
  "kernelspec": {
   "display_name": "Python 3",
   "language": "python",
   "name": "python3"
  },
  "language_info": {
   "codemirror_mode": {
    "name": "ipython",
    "version": 3
   },
   "file_extension": ".py",
   "mimetype": "text/x-python",
   "name": "python",
   "nbconvert_exporter": "python",
   "pygments_lexer": "ipython3",
   "version": "3.8.5"
  }
 },
 "nbformat": 4,
 "nbformat_minor": 4
}
